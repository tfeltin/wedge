{
 "cells": [
  {
   "cell_type": "markdown",
   "id": "efd044a6-affc-4001-829a-cb1ff00c8cc3",
   "metadata": {
    "tags": []
   },
   "source": [
    "# ONNX example - YOLOv2"
   ]
  },
  {
   "cell_type": "code",
   "execution_count": 1,
   "id": "e1b1be39-afe6-419d-8e31-27405f8b9f47",
   "metadata": {},
   "outputs": [],
   "source": [
    "import numpy as np\n",
    "import onnxruntime as ort\n",
    "from processing import postprocess, preprocess\n",
    "from rtsp import RTSPIn"
   ]
  },
  {
   "cell_type": "markdown",
   "id": "e749fd4a-70fe-4080-8880-e2f1c2392ffa",
   "metadata": {},
   "source": [
    "#### Parameters"
   ]
  },
  {
   "cell_type": "code",
   "execution_count": 2,
   "id": "88673094-1f51-42be-a51d-9df5b07f8818",
   "metadata": {},
   "outputs": [
    {
     "name": "stdout",
     "output_type": "stream",
     "text": [
      "RTSP Client -- Successfully opened rtsp://192.168.1.22:8554/mystream (1280x720 at 20.00 FPS).\n"
     ]
    },
    {
     "name": "stderr",
     "output_type": "stream",
     "text": [
      "[mpeg4 @ 0x7fec4002c0c0] warning: first frame is no keyframe\n"
     ]
    }
   ],
   "source": [
    "model_url = \"https://github.com/onnx/models/blob/main/vision/object_detection_segmentation/yolov2-coco/model/yolov2-coco-9.onnx\"\n",
    "input_url = \"<input_rtsp_stream_url>\"\n",
    "input_stream = RTSPIn({'source': input_url})"
   ]
  },
  {
   "cell_type": "markdown",
   "id": "abdc9260-9b4e-4b72-80ae-e0badbb25e9f",
   "metadata": {},
   "source": [
    "#### Create session + load model"
   ]
  },
  {
   "cell_type": "code",
   "execution_count": 3,
   "id": "3c45fe56-9881-4400-bf68-50a0546ea1f6",
   "metadata": {},
   "outputs": [
    {
     "name": "stderr",
     "output_type": "stream",
     "text": [
      "2022-05-04 09:03:21.828061900 [W:onnxruntime:, graph.cc:3559 CleanUnusedInitializersAndNodeArgs] Removing initializer 'models.9.bn7.num_batches_tracked'. It is not used by any node and should be removed from the model.\n",
      "2022-05-04 09:03:21.828173200 [W:onnxruntime:, graph.cc:3559 CleanUnusedInitializersAndNodeArgs] Removing initializer 'models.16.bn13.num_batches_tracked'. It is not used by any node and should be removed from the model.\n",
      "2022-05-04 09:03:21.828191700 [W:onnxruntime:, graph.cc:3559 CleanUnusedInitializersAndNodeArgs] Removing initializer 'models.21.bn17.num_batches_tracked'. It is not used by any node and should be removed from the model.\n",
      "2022-05-04 09:03:21.828210000 [W:onnxruntime:, graph.cc:3559 CleanUnusedInitializersAndNodeArgs] Removing initializer 'models.6.bn5.num_batches_tracked'. It is not used by any node and should be removed from the model.\n",
      "2022-05-04 09:03:21.828219000 [W:onnxruntime:, graph.cc:3559 CleanUnusedInitializersAndNodeArgs] Removing initializer 'models.15.bn12.num_batches_tracked'. It is not used by any node and should be removed from the model.\n",
      "2022-05-04 09:03:21.828226300 [W:onnxruntime:, graph.cc:3559 CleanUnusedInitializersAndNodeArgs] Removing initializer 'models.2.bn2.num_batches_tracked'. It is not used by any node and should be removed from the model.\n",
      "2022-05-04 09:03:21.828239400 [W:onnxruntime:, graph.cc:3559 CleanUnusedInitializersAndNodeArgs] Removing initializer 'models.0.bn1.num_batches_tracked'. It is not used by any node and should be removed from the model.\n",
      "2022-05-04 09:03:21.828255600 [W:onnxruntime:, graph.cc:3559 CleanUnusedInitializersAndNodeArgs] Removing initializer 'models.14.bn11.num_batches_tracked'. It is not used by any node and should be removed from the model.\n",
      "2022-05-04 09:03:21.828275000 [W:onnxruntime:, graph.cc:3559 CleanUnusedInitializersAndNodeArgs] Removing initializer 'models.12.bn9.num_batches_tracked'. It is not used by any node and should be removed from the model.\n",
      "2022-05-04 09:03:21.828294300 [W:onnxruntime:, graph.cc:3559 CleanUnusedInitializersAndNodeArgs] Removing initializer 'models.5.bn4.num_batches_tracked'. It is not used by any node and should be removed from the model.\n",
      "2022-05-04 09:03:21.828313800 [W:onnxruntime:, graph.cc:3559 CleanUnusedInitializersAndNodeArgs] Removing initializer 'models.13.bn10.num_batches_tracked'. It is not used by any node and should be removed from the model.\n",
      "2022-05-04 09:03:21.828333600 [W:onnxruntime:, graph.cc:3559 CleanUnusedInitializersAndNodeArgs] Removing initializer 'models.19.bn15.num_batches_tracked'. It is not used by any node and should be removed from the model.\n",
      "2022-05-04 09:03:21.828354700 [W:onnxruntime:, graph.cc:3559 CleanUnusedInitializersAndNodeArgs] Removing initializer 'models.20.bn16.num_batches_tracked'. It is not used by any node and should be removed from the model.\n",
      "2022-05-04 09:03:21.828373800 [W:onnxruntime:, graph.cc:3559 CleanUnusedInitializersAndNodeArgs] Removing initializer 'models.18.bn14.num_batches_tracked'. It is not used by any node and should be removed from the model.\n",
      "2022-05-04 09:03:21.828393000 [W:onnxruntime:, graph.cc:3559 CleanUnusedInitializersAndNodeArgs] Removing initializer 'models.4.bn3.num_batches_tracked'. It is not used by any node and should be removed from the model.\n",
      "2022-05-04 09:03:21.828413600 [W:onnxruntime:, graph.cc:3559 CleanUnusedInitializersAndNodeArgs] Removing initializer 'models.24.bn20.num_batches_tracked'. It is not used by any node and should be removed from the model.\n",
      "2022-05-04 09:03:21.828432700 [W:onnxruntime:, graph.cc:3559 CleanUnusedInitializersAndNodeArgs] Removing initializer 'models.22.bn18.num_batches_tracked'. It is not used by any node and should be removed from the model.\n",
      "2022-05-04 09:03:21.828452400 [W:onnxruntime:, graph.cc:3559 CleanUnusedInitializersAndNodeArgs] Removing initializer 'models.23.bn19.num_batches_tracked'. It is not used by any node and should be removed from the model.\n",
      "2022-05-04 09:03:21.828472900 [W:onnxruntime:, graph.cc:3559 CleanUnusedInitializersAndNodeArgs] Removing initializer 'models.26.bn21.num_batches_tracked'. It is not used by any node and should be removed from the model.\n",
      "2022-05-04 09:03:21.828492700 [W:onnxruntime:, graph.cc:3559 CleanUnusedInitializersAndNodeArgs] Removing initializer 'models.29.bn22.num_batches_tracked'. It is not used by any node and should be removed from the model.\n",
      "2022-05-04 09:03:21.828513800 [W:onnxruntime:, graph.cc:3559 CleanUnusedInitializersAndNodeArgs] Removing initializer 'models.10.bn8.num_batches_tracked'. It is not used by any node and should be removed from the model.\n",
      "2022-05-04 09:03:21.828534100 [W:onnxruntime:, graph.cc:3559 CleanUnusedInitializersAndNodeArgs] Removing initializer 'models.8.bn6.num_batches_tracked'. It is not used by any node and should be removed from the model.\n"
     ]
    }
   ],
   "source": [
    "session = ort.InferenceSession(\"yolov2-coco-9.onnx\")"
   ]
  },
  {
   "cell_type": "markdown",
   "id": "1af06891-181c-4819-a439-2a1b62c89dff",
   "metadata": {},
   "source": [
    "#### Get data + preprocess"
   ]
  },
  {
   "cell_type": "code",
   "execution_count": 4,
   "id": "79ab98fd-d274-437b-b27b-e192d747500f",
   "metadata": {},
   "outputs": [],
   "source": [
    "img = preprocess(input_stream.read())"
   ]
  },
  {
   "cell_type": "markdown",
   "id": "eb7290c6-725d-446a-a791-6ef0c392f29e",
   "metadata": {},
   "source": [
    "#### Run inference"
   ]
  },
  {
   "cell_type": "code",
   "execution_count": 5,
   "id": "a522f644-d55d-454c-8db8-37ff88db89f9",
   "metadata": {},
   "outputs": [],
   "source": [
    "inference = session.run(['218'], {'input.1': img})[0]"
   ]
  },
  {
   "cell_type": "markdown",
   "id": "5d49a46a-a160-4121-a069-ae74c1b421af",
   "metadata": {},
   "source": [
    "#### Postprocess"
   ]
  },
  {
   "cell_type": "code",
   "execution_count": 6,
   "id": "dd3b121e-8173-407e-87c6-2ff751c75c75",
   "metadata": {},
   "outputs": [
    {
     "name": "stdout",
     "output_type": "stream",
     "text": [
      "Read data : (1, 425, 13, 13)\n",
      "bicycle\t-\tbb:[0.50,0.44,2.28,2.36],\tconf:0.992,\tmax_conf:0.032\n"
     ]
    }
   ],
   "source": [
    "print(\"Read data : %s\" % str(inference.shape))\n",
    "print(postprocess(inference))"
   ]
  }
 ],
 "metadata": {
  "kernelspec": {
   "display_name": "Python 3 (ipykernel)",
   "language": "python",
   "name": "python3"
  },
  "language_info": {
   "codemirror_mode": {
    "name": "ipython",
    "version": 3
   },
   "file_extension": ".py",
   "mimetype": "text/x-python",
   "name": "python",
   "nbconvert_exporter": "python",
   "pygments_lexer": "ipython3",
   "version": "3.9.10"
  }
 },
 "nbformat": 4,
 "nbformat_minor": 5
}
