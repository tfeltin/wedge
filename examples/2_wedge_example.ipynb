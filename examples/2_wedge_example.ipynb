{
 "cells": [
  {
   "cell_type": "markdown",
   "id": "efd044a6-affc-4001-829a-cb1ff00c8cc3",
   "metadata": {
    "tags": []
   },
   "source": [
    "# Wedge example - YOLOv2"
   ]
  },
  {
   "cell_type": "code",
   "execution_count": 1,
   "id": "e1b1be39-afe6-419d-8e31-27405f8b9f47",
   "metadata": {},
   "outputs": [],
   "source": [
    "import wedge\n",
    "import numpy as np\n",
    "from processing import postprocess"
   ]
  },
  {
   "cell_type": "markdown",
   "id": "cdb53de4-bbf7-4b06-ae70-445e0ae502f8",
   "metadata": {},
   "source": [
    "#### Parameters"
   ]
  },
  {
   "cell_type": "code",
   "execution_count": 2,
   "id": "88673094-1f51-42be-a51d-9df5b07f8818",
   "metadata": {},
   "outputs": [],
   "source": [
    "wedge_url = \"192.168.1.82:30006\"\n",
    "model_url = \"https://github.com/onnx/models/blob/main/vision/object_detection_segmentation/yolov2-coco/model/yolov2-coco-9.onnx\"\n",
    "input_url = \"rtsp://192.168.1.22:8554/mystream\"\n",
    "output_url = \"192.168.1.82:31883\""
   ]
  },
  {
   "cell_type": "markdown",
   "id": "e90e04bc-e463-49a3-9124-6a3e99ac84c0",
   "metadata": {},
   "source": [
    "#### Create session + load model"
   ]
  },
  {
   "cell_type": "code",
   "execution_count": 4,
   "id": "3c45fe56-9881-4400-bf68-50a0546ea1f6",
   "metadata": {},
   "outputs": [],
   "source": [
    "session = wedge.InferenceSession(model_url, wedge_url)"
   ]
  },
  {
   "cell_type": "markdown",
   "id": "3a52618b-7904-44ac-8422-94c7c2df9022",
   "metadata": {},
   "source": [
    "#### Get data + preprocess"
   ]
  },
  {
   "cell_type": "code",
   "execution_count": 5,
   "id": "79ab98fd-d274-437b-b27b-e192d747500f",
   "metadata": {},
   "outputs": [],
   "source": [
    "data_stream = session.run(input_url, output_url)"
   ]
  },
  {
   "cell_type": "markdown",
   "id": "fd4479c9-0684-4bfe-9d1a-8b6105e696bb",
   "metadata": {},
   "source": [
    "#### Run inference"
   ]
  },
  {
   "cell_type": "code",
   "execution_count": 10,
   "id": "2e7b14a9-98d9-40a3-a310-6aaab5be3610",
   "metadata": {},
   "outputs": [],
   "source": [
    "inference = data_stream.read()"
   ]
  },
  {
   "cell_type": "markdown",
   "id": "a2122f8b-8841-4d7a-8721-c038e98a921c",
   "metadata": {},
   "source": [
    "#### Postprocess"
   ]
  },
  {
   "cell_type": "code",
   "execution_count": 11,
   "id": "dd3b121e-8173-407e-87c6-2ff751c75c75",
   "metadata": {},
   "outputs": [
    {
     "name": "stdout",
     "output_type": "stream",
     "text": [
      "Read data : (1, 425, 13, 13)\n",
      "train\t-\tbb:[0.52,0.41,2.60,2.34],\tconf:1.000,\tmax_conf:0.036\n"
     ]
    }
   ],
   "source": [
    "inference = np.array(inference)\n",
    "print(\"Read data : %s\" % str(inference.shape))\n",
    "print(postprocess(inference))"
   ]
  },
  {
   "cell_type": "markdown",
   "id": "ef37c17d-3adf-41a6-9092-71974aa823ba",
   "metadata": {},
   "source": [
    "#### Stop session"
   ]
  },
  {
   "cell_type": "code",
   "execution_count": 12,
   "id": "270e56d7-c36c-4786-886e-19c218166dd6",
   "metadata": {},
   "outputs": [],
   "source": [
    "session.stop()"
   ]
  }
 ],
 "metadata": {
  "kernelspec": {
   "display_name": "Python 3 (ipykernel)",
   "language": "python",
   "name": "python3"
  },
  "language_info": {
   "codemirror_mode": {
    "name": "ipython",
    "version": 3
   },
   "file_extension": ".py",
   "mimetype": "text/x-python",
   "name": "python",
   "nbconvert_exporter": "python",
   "pygments_lexer": "ipython3",
   "version": "3.9.10"
  }
 },
 "nbformat": 4,
 "nbformat_minor": 5
}
